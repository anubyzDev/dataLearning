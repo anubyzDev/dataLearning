{
 "cells": [
  {
   "cell_type": "code",
   "execution_count": 6,
   "metadata": {},
   "outputs": [
    {
     "name": "stdout",
     "output_type": "stream",
     "text": [
      "      condominio  quartos  suites  vagas  area    bairro    preco       pm2\n",
      "0            350        1     0.0    1.0    21  Botafogo   340000  16190.48\n",
      "1            800        1     0.0    1.0    64  Botafogo   770000  12031.25\n",
      "2            674        1     0.0    1.0    61  Botafogo   600000   9836.07\n",
      "3            700        1     1.0    1.0    70  Botafogo   700000  10000.00\n",
      "4            440        1     0.0    1.0    44  Botafogo   515000  11704.55\n",
      "...          ...      ...     ...    ...   ...       ...      ...       ...\n",
      "1992        1080        3     1.0    1.0    80    Tijuca   680000   8500.00\n",
      "1993         750        3     0.0    1.0    82    Tijuca   650000   7926.83\n",
      "1994         700        3     1.0    1.0   100    Tijuca   629900   6299.00\n",
      "1995        1850        3     1.0    2.0   166    Tijuca  1600000   9638.55\n",
      "1996         800        3     1.0    1.0   107    Tijuca   540000   5046.73\n",
      "\n",
      "[1997 rows x 8 columns]\n"
     ]
    }
   ],
   "source": [
    "import pandas as pd\n",
    "import numpy as np #Numpy é uma lib para processamento e análise de dados\n",
    "\n",
    "df_csv = pd.read_csv('/home/anubyz_dev/developinho/estudos/python/data/dados.csv') #O método read_csv() nos permite ler um arquivo .csv passando seu caminho como parêmetro\n",
    "\n",
    "print(df_csv)\n"
   ]
  },
  {
   "cell_type": "code",
   "execution_count": 7,
   "metadata": {},
   "outputs": [
    {
     "name": "stdout",
     "output_type": "stream",
     "text": [
      "   condominio  quartos  suites  vagas  area    bairro   preco       pm2\n",
      "0         350        1     0.0    1.0    21  Botafogo  340000  16190.48\n",
      "1         800        1     0.0    1.0    64  Botafogo  770000  12031.25\n",
      "2         674        1     0.0    1.0    61  Botafogo  600000   9836.07\n"
     ]
    }
   ],
   "source": [
    "print(df_csv.head(3)) #Usando o método head() você exibe uma quantidade pré definida das primeiras linhas do Data Frame ou a quantidade desejada passada por parâmetro"
   ]
  },
  {
   "cell_type": "code",
   "execution_count": 4,
   "metadata": {},
   "outputs": [
    {
     "name": "stdout",
     "output_type": "stream",
     "text": [
      "      condominio  quartos  suites  vagas  area  bairro    preco      pm2\n",
      "1994         700        3     1.0    1.0   100  Tijuca   629900  6299.00\n",
      "1995        1850        3     1.0    2.0   166  Tijuca  1600000  9638.55\n",
      "1996         800        3     1.0    1.0   107  Tijuca   540000  5046.73\n"
     ]
    }
   ],
   "source": [
    "print(df_csv.tail(3)) #Usando o método head() você exibe uma quantidade pré definida das últimas linhas do Data Frame ou a quantidade desejada passada por parâmetro"
   ]
  },
  {
   "cell_type": "code",
   "execution_count": 8,
   "metadata": {},
   "outputs": [
    {
     "name": "stdout",
     "output_type": "stream",
     "text": [
      "['Botafogo' 'Copacabana' 'Gávea' 'Grajaú' 'Ipanema' 'Leblon' 'Tijuca']\n"
     ]
    }
   ],
   "source": [
    "print(df_csv['bairro'].unique()) #O método unique() permite que você veja uma lista com todos os valores existentes na coluna bairro"
   ]
  },
  {
   "cell_type": "code",
   "execution_count": 12,
   "metadata": {},
   "outputs": [
    {
     "name": "stdout",
     "output_type": "stream",
     "text": [
      "Copacabana    346\n",
      "Tijuca        341\n",
      "Botafogo      307\n",
      "Ipanema       281\n",
      "Leblon        280\n",
      "Grajaú        237\n",
      "Gávea         205\n",
      "Name: bairro, dtype: int64\n"
     ]
    }
   ],
   "source": [
    "print(df_csv['bairro'].value_counts()) #O método valeu_counts() permite que você além de visualizar os valores únicos de cada linha, realize uma contagem da quantidade de vezes que cada valor aparece"
   ]
  },
  {
   "cell_type": "code",
   "execution_count": 27,
   "metadata": {},
   "outputs": [
    {
     "name": "stdout",
     "output_type": "stream",
     "text": [
      "   condominio  quartos  suites  vagas  area    bairro   preco       pm2\n",
      "0         350        1     0.0    1.0    21  Botafogo  340000  16190.48\n",
      "1         800        1     0.0    1.0    64  Botafogo  770000       NaN\n",
      "2         674        1     0.0    1.0    61  Botafogo  600000   9836.07\n",
      "3         700        1     1.0    1.0    70  Botafogo  700000  10000.00\n",
      "4         440        1     0.0    1.0    44  Botafogo  515000  11704.55\n"
     ]
    }
   ],
   "source": [
    "#ESTUDAR\n",
    "\n",
    "df2 = df_csv.head()\n",
    "df3 = df2.replace({\"pm2\":{12031.25:np.nan}}) #Realizando replace de um valor expecífico por NaN da biblioteca NumPy na coluna pm2\n",
    "print(df3)\n"
   ]
  },
  {
   "cell_type": "code",
   "execution_count": 28,
   "metadata": {},
   "outputs": [
    {
     "name": "stdout",
     "output_type": "stream",
     "text": [
      "   condominio  quartos  suites  vagas  area    bairro   preco       pm2\n",
      "0         350        1     0.0    1.0    21  Botafogo  340000  16190.48\n",
      "2         674        1     0.0    1.0    61  Botafogo  600000   9836.07\n",
      "3         700        1     1.0    1.0    70  Botafogo  700000  10000.00\n",
      "4         440        1     0.0    1.0    44  Botafogo  515000  11704.55\n"
     ]
    }
   ],
   "source": [
    "df4 = df3.dropna() #O método dropna faz com que você descarte a linha inteira onde houver a ocorrência de um valor NaN\n",
    "print(df4)"
   ]
  }
 ],
 "metadata": {
  "kernelspec": {
   "display_name": "Python 3",
   "language": "python",
   "name": "python3"
  },
  "language_info": {
   "codemirror_mode": {
    "name": "ipython",
    "version": 3
   },
   "file_extension": ".py",
   "mimetype": "text/x-python",
   "name": "python",
   "nbconvert_exporter": "python",
   "pygments_lexer": "ipython3",
   "version": "3.10.5 (main, Jun 11 2022, 16:53:24) [GCC 9.4.0]"
  },
  "orig_nbformat": 4,
  "vscode": {
   "interpreter": {
    "hash": "8a94588eda9d64d9e9a351ab8144e55b1fabf5113b54e67dd26a8c27df0381b3"
   }
  }
 },
 "nbformat": 4,
 "nbformat_minor": 2
}
