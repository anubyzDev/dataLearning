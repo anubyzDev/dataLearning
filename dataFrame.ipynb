{
 "cells": [
  {
   "cell_type": "code",
   "execution_count": 4,
   "metadata": {},
   "outputs": [
    {
     "name": "stdout",
     "output_type": "stream",
     "text": [
      "        Aluno  Faltas  Prova  Seminário\n",
      "0     Gabriel       3    9.5        8.5\n",
      "1     Eduardo       4    7.0        7.0\n",
      "2     Thalita       2    8.0        5.0\n",
      "3  Wellington       4    6.0        6.0\n",
      "4       Karen       3   10.0        9.0\n"
     ]
    }
   ],
   "source": [
    "import pandas as pd\n",
    "\n",
    "#Criando um Data Frame\n",
    "#Primeiramente nomeando a coluna, seguida da lista de seu conteúdo\n",
    "\n",
    "df = pd.DataFrame({'Aluno':['Gabriel', 'Eduardo', 'Thalita', 'Wellington', 'Karen'],\n",
    "                   'Faltas':[3, 4, 2, 4, 3],\n",
    "                   'Prova':[9.5, 7, 8, 6, 10],\n",
    "                   'Seminário':[8.5, 7, 5, 6, 9]})\n",
    "\n",
    "print(df) #Printa o Data Frame inteiro\n"
   ]
  },
  {
   "cell_type": "code",
   "execution_count": 5,
   "metadata": {},
   "outputs": [
    {
     "name": "stdout",
     "output_type": "stream",
     "text": [
      "[['Gabriel' 3 9.5 8.5]\n",
      " ['Eduardo' 4 7.0 7.0]\n",
      " ['Thalita' 2 8.0 5.0]\n",
      " ['Wellington' 4 6.0 6.0]\n",
      " ['Karen' 3 10.0 9.0]]\n"
     ]
    }
   ],
   "source": [
    "print(df.values) #Printa apenas os valores do Data Frame\n"
   ]
  },
  {
   "cell_type": "code",
   "execution_count": 6,
   "metadata": {},
   "outputs": [
    {
     "name": "stdout",
     "output_type": "stream",
     "text": [
      "RangeIndex(start=0, stop=5, step=1)\n"
     ]
    }
   ],
   "source": [
    "print(df.index) #Printa informções do Índice: Inicio, Final e Passo\n",
    "\n"
   ]
  },
  {
   "cell_type": "code",
   "execution_count": 7,
   "metadata": {},
   "outputs": [
    {
     "name": "stdout",
     "output_type": "stream",
     "text": [
      "Aluno         object\n",
      "Faltas         int64\n",
      "Prova        float64\n",
      "Seminário    float64\n",
      "dtype: object\n"
     ]
    }
   ],
   "source": [
    "print(df.dtypes) #Printa o tipo de dados de cada coluna do Data Frame"
   ]
  },
  {
   "cell_type": "code",
   "execution_count": 8,
   "metadata": {},
   "outputs": [
    {
     "name": "stdout",
     "output_type": "stream",
     "text": [
      "Index(['Aluno', 'Faltas', 'Prova', 'Seminário'], dtype='object')\n"
     ]
    }
   ],
   "source": [
    "print(df.columns) #Prita o nome das colunas do Data Frame\n"
   ]
  },
  {
   "cell_type": "code",
   "execution_count": 9,
   "metadata": {},
   "outputs": [
    {
     "name": "stdout",
     "output_type": "stream",
     "text": [
      "0       Gabriel\n",
      "1       Eduardo\n",
      "2       Thalita\n",
      "3    Wellington\n",
      "4         Karen\n",
      "Name: Aluno, dtype: object\n"
     ]
    }
   ],
   "source": [
    "print(df['Aluno']) #Printa apenas a coluna selecionada\n"
   ]
  },
  {
   "cell_type": "code",
   "execution_count": 10,
   "metadata": {},
   "outputs": [
    {
     "name": "stdout",
     "output_type": "stream",
     "text": [
      "        Faltas     Prova  Seminário\n",
      "count  5.00000   5.00000    5.00000\n",
      "mean   3.20000   8.10000    7.10000\n",
      "std    0.83666   1.67332    1.67332\n",
      "min    2.00000   6.00000    5.00000\n",
      "25%    3.00000   7.00000    6.00000\n",
      "50%    3.00000   8.00000    7.00000\n",
      "75%    4.00000   9.50000    8.50000\n",
      "max    4.00000  10.00000    9.00000\n"
     ]
    }
   ],
   "source": [
    "print(df.describe()) #Printa informações estatísticas sobre o Data Frame\n"
   ]
  },
  {
   "cell_type": "code",
   "execution_count": 12,
   "metadata": {},
   "outputs": [
    {
     "name": "stdout",
     "output_type": "stream",
     "text": [
      "        Aluno  Faltas  Prova  Seminário\n",
      "2     Thalita       2    8.0        5.0\n",
      "3  Wellington       4    6.0        6.0\n",
      "1     Eduardo       4    7.0        7.0\n",
      "0     Gabriel       3    9.5        8.5\n",
      "4       Karen       3   10.0        9.0\n"
     ]
    }
   ],
   "source": [
    "print(df.sort_values(by=\"Seminário\")) #Printa os valores ordenadamente de forma crescente se baseando pela coluna Seminário"
   ]
  },
  {
   "cell_type": "code",
   "execution_count": 11,
   "metadata": {},
   "outputs": [
    {
     "name": "stdout",
     "output_type": "stream",
     "text": [
      "        Aluno  Faltas  Prova  Seminário\n",
      "4       Karen       3   10.0        9.0\n",
      "0     Gabriel       3    9.5        8.5\n",
      "1     Eduardo       4    7.0        7.0\n",
      "3  Wellington       4    6.0        6.0\n",
      "2     Thalita       2    8.0        5.0\n"
     ]
    }
   ],
   "source": [
    "print(df.sort_values(by=\"Seminário\", ascending=False)) #O argumento \"ascending=False\" faz com que a ordem seja decrescente\n"
   ]
  },
  {
   "cell_type": "code",
   "execution_count": 13,
   "metadata": {},
   "outputs": [
    {
     "name": "stdout",
     "output_type": "stream",
     "text": [
      "Aluno        Wellington\n",
      "Faltas                4\n",
      "Prova               6.0\n",
      "Seminário           6.0\n",
      "Name: 3, dtype: object\n"
     ]
    }
   ],
   "source": [
    "print(df.loc[3]) #Printa as informações sobre o Índice selecionado\n"
   ]
  },
  {
   "cell_type": "code",
   "execution_count": 21,
   "metadata": {},
   "outputs": [
    {
     "name": "stdout",
     "output_type": "stream",
     "text": [
      "     Aluno  Faltas  Prova  Seminário\n",
      "0  Gabriel       3    9.5        8.5\n",
      "4    Karen       3   10.0        9.0\n"
     ]
    }
   ],
   "source": [
    "print(df[df['Seminário'] > 8.0]) #Printa somente os casos onde os valores na coluna selecionada fore maiores que 8\n"
   ]
  },
  {
   "cell_type": "code",
   "execution_count": 19,
   "metadata": {},
   "outputs": [
    {
     "name": "stdout",
     "output_type": "stream",
     "text": [
      "     Aluno  Faltas  Prova  Seminário\n",
      "0  Gabriel       3    9.5        8.5\n",
      "4    Karen       3   10.0        9.0\n"
     ]
    }
   ],
   "source": [
    "print(df[(df['Seminário'] > 8.0) & (df['Prova'] > 3)])"
   ]
  }
 ],
 "metadata": {
  "kernelspec": {
   "display_name": "Python 3",
   "language": "python",
   "name": "python3"
  },
  "language_info": {
   "codemirror_mode": {
    "name": "ipython",
    "version": 3
   },
   "file_extension": ".py",
   "mimetype": "text/x-python",
   "name": "python",
   "nbconvert_exporter": "python",
   "pygments_lexer": "ipython3",
   "version": "3.10.5"
  },
  "orig_nbformat": 4,
  "vscode": {
   "interpreter": {
    "hash": "8a94588eda9d64d9e9a351ab8144e55b1fabf5113b54e67dd26a8c27df0381b3"
   }
  }
 },
 "nbformat": 4,
 "nbformat_minor": 2
}
